{
 "cells": [
  {
   "cell_type": "code",
   "execution_count": 1,
   "id": "ec732666",
   "metadata": {},
   "outputs": [],
   "source": [
    "import os \n",
    "import pickle\n",
    "import time \n",
    "import random\n",
    "import numpy as np \n",
    "import tensorflow as tf\n",
    "from tensorflow.keras.models import Sequential\n",
    "from tensorflow.keras.layers import Dense, Dropout, Activation, Flatten, Conv2D, MaxPooling2D\n",
    "from tensorflow.keras.callbacks import TensorBoard\n",
    "from save_data import save\n",
    "from data_splitter import get_train_and_test_data"
   ]
  },
  {
   "cell_type": "code",
   "execution_count": 2,
   "id": "96fa53fc",
   "metadata": {
    "collapsed": true
   },
   "outputs": [
    {
     "name": "stdout",
     "output_type": "stream",
     "text": [
      "File to delete Not found\n",
      "Reading: D:/Documents/Python/fallguy_bot/DATA/LEVELS/SeeSaw\n",
      "Run # 1\n",
      "Dead categories= 501\n",
      "Fine categories= 1124\n",
      "Raw  categories= 1625\n",
      "raw  img list= 1625\n",
      "Fine img list= 1124\n",
      "Run # 2\n",
      "Dead categories= 901\n",
      "Fine categories= 2261\n",
      "Raw  categories= 3162\n",
      "raw  img list= 3162\n",
      "Fine img list= 2261\n",
      "Run # 3\n",
      "Dead categories= 1011\n",
      "Fine categories= 2806\n",
      "Raw  categories= 3817\n",
      "raw  img list= 3817\n",
      "Fine img list= 2806\n",
      "Run # 4\n",
      "Dead categories= 460\n",
      "Fine categories= 1046\n",
      "Raw  categories= 1506\n",
      "raw  img list= 1506\n",
      "Fine img list= 1046\n",
      "Run # 5\n",
      "Dead categories= 662\n",
      "Fine categories= 1710\n",
      "Raw  categories= 2372\n",
      "raw  img list= 2372\n",
      "Fine img list= 1710\n",
      "Run # 6\n",
      "Dead categories= 665\n",
      "Fine categories= 1749\n",
      "Raw  categories= 2414\n",
      "raw  img list= 2414\n",
      "Fine img list= 1749\n",
      "Run # 7\n",
      "Dead categories= 636\n",
      "Fine categories= 1586\n",
      "Raw  categories= 2222\n",
      "raw  img list= 2222\n",
      "Fine img list= 1586\n",
      "Run # 8\n",
      "Dead categories= 898\n",
      "Fine categories= 2261\n",
      "Raw  categories= 3159\n",
      "raw  img list= 3159\n",
      "Fine img list= 2261\n",
      "Run # 9\n",
      "Dead categories= 662\n",
      "Fine categories= 1672\n",
      "Raw  categories= 2334\n",
      "raw  img list= 2334\n",
      "Fine img list= 1672\n",
      "Run # 10\n",
      "Dead categories= 116\n",
      "Fine categories= 2262\n",
      "Raw  categories= 2378\n",
      "raw  img list= 2378\n",
      "Fine img list= 2262\n",
      "Run # 11\n",
      "Dead categories= 100\n",
      "Fine categories= 2324\n",
      "Raw  categories= 2424\n",
      "raw  img list= 2424\n",
      "Fine img list= 2324\n",
      "Run # 12\n",
      "Dead categories= 162\n",
      "Fine categories= 2209\n",
      "Raw  categories= 2371\n",
      "raw  img list= 2371\n",
      "Fine img list= 2209\n",
      "[WinError 2] Не удается найти указанный файл: 'D:/Documents/Python/fallguy_bot/DATA/LEVELS/SeeSaw/13'\n",
      "Run # 14\n",
      "Dead categories= 218\n",
      "Fine categories= 3138\n",
      "Raw  categories= 3356\n",
      "raw  img list= 3356\n",
      "Fine img list= 3138\n",
      "Run # 15\n",
      "Dead categories= 0\n",
      "Fine categories= 1\n",
      "Raw  categories= 1\n",
      "raw  img list= 1\n",
      "Fine img list= 1\n",
      "Run # 16\n",
      "Dead categories= 85\n",
      "Fine categories= 1227\n",
      "Raw  categories= 1312\n",
      "raw  img list= 1312\n",
      "Fine img list= 1227\n",
      "Run # 17\n",
      "Dead categories= 176\n",
      "Fine categories= 2526\n",
      "Raw  categories= 2702\n",
      "raw  img list= 2702\n",
      "Fine img list= 2526\n",
      "Run # 18\n",
      "Dead categories= 139\n",
      "Fine categories= 2512\n",
      "Raw  categories= 2651\n",
      "raw  img list= 2651\n",
      "Fine img list= 2512\n",
      "Run # 19\n",
      "Dead categories= 152\n",
      "Fine categories= 2532\n",
      "Raw  categories= 2684\n",
      "raw  img list= 2684\n",
      "Fine img list= 2532\n",
      "i found  34946  Data\n",
      "Saving to pickle in D:\\Documents\\Python\\fallguy_bot\\DATA\\LEVELS\\SeeSaw\n"
     ]
    }
   ],
   "source": [
    "level = 'SeeSaw'\n",
    "save(level, debug=True, delete=True)\n",
    "os.chdir('D:/Documents/Python/fallguy_bot/DATA/LEVELS/'+ level)\n",
    "X = pickle.load(open('X.pickle','rb'))\n",
    "y = pickle.load(open('y.pickle','rb'))\n",
    "X = X/255.0\n",
    "\n"
   ]
  },
  {
   "cell_type": "code",
   "execution_count": 4,
   "id": "1299ff5f",
   "metadata": {},
   "outputs": [
    {
     "data": {
      "text/plain": [
       "(34946, 7)"
      ]
     },
     "execution_count": 4,
     "metadata": {},
     "output_type": "execute_result"
    }
   ],
   "source": [
    "y.shape"
   ]
  },
  {
   "cell_type": "code",
   "execution_count": 9,
   "id": "03524226",
   "metadata": {
    "scrolled": false
   },
   "outputs": [
    {
     "name": "stdout",
     "output_type": "stream",
     "text": [
      "get max index\n",
      "get index for test\n",
      "getting index for train\n",
      "creating X_test\n",
      "creating y test\n",
      "creating X_train\n",
      "creating y_train\n",
      "try to return\n"
     ]
    }
   ],
   "source": [
    "X_train, y_train, X_test, y_test = get_train_and_test_data(X,y)"
   ]
  },
  {
   "cell_type": "code",
   "execution_count": 10,
   "id": "f6231384",
   "metadata": {},
   "outputs": [
    {
     "name": "stdout",
     "output_type": "stream",
     "text": [
      "(31452, 427, 240, 1)\n",
      "(31452, 7)\n",
      "(3494, 427, 240, 1)\n",
      "(3494, 7)\n"
     ]
    }
   ],
   "source": [
    "print(X_train.shape)\n",
    "print(y_train.shape)\n",
    "print(X_test.shape)\n",
    "print(y_test.shape)"
   ]
  },
  {
   "cell_type": "code",
   "execution_count": null,
   "id": "1c8e6dd2",
   "metadata": {},
   "outputs": [],
   "source": [
    "X_train = X_train.astype(\"float32\")\n",
    "y_train = y_train.astype(\"float32\")\n",
    "\n",
    "X_test = X_test.astype(\"float32\")\n",
    "y_test = y_test.astype(\"float32\")\n"
   ]
  },
  {
   "cell_type": "code",
   "execution_count": 26,
   "id": "137510bf",
   "metadata": {},
   "outputs": [],
   "source": [
    "num_counter = 0\n",
    "double_key = []\n",
    "category_counter = -1\n",
    "space_keys = []\n",
    "w_counter = -1\n",
    "pos_of_key = 0\n",
    "for category in  y_test:\n",
    "    category_counter += 1\n",
    "    for num in category:\n",
    "        w_counter += 1 \n",
    "        if num == 1:\n",
    "            num_counter += 1\n",
    "        if w_counter == pos_of_key and num == 1:\n",
    "            space_keys.append(category_counter)\n",
    "        \n",
    "            \n",
    "    if num_counter == 2:\n",
    "        double_key.append(category_counter)\n",
    "    num_counter = 0\n",
    "    w_counter = -1\n",
    "    \n",
    "        \n",
    "        \n",
    "    \n"
   ]
  },
  {
   "cell_type": "code",
   "execution_count": 27,
   "id": "1794dc5a",
   "metadata": {},
   "outputs": [
    {
     "name": "stdout",
     "output_type": "stream",
     "text": [
      "persent of double key is = 39.75\n",
      "Have  2434 keys Its have  69.66 Percent of DF\n"
     ]
    }
   ],
   "source": [
    "print('persent of double key is =', \"%.2f\" %round((len(double_key)*100/len(y_test)),2))\n",
    "print('Have ',len(space_keys),'keys','Its have ', \"%.2f\" %round((len(space_keys)*100/len(y_test)),2),'Percent of DF')"
   ]
  },
  {
   "cell_type": "code",
   "execution_count": 22,
   "id": "9a8963b8",
   "metadata": {},
   "outputs": [
    {
     "name": "stdout",
     "output_type": "stream",
     "text": [
      "Model: \"sequential_8\"\n",
      "_________________________________________________________________\n",
      "Layer (type)                 Output Shape              Param #   \n",
      "=================================================================\n",
      "conv2d_19 (Conv2D)           (None, 426, 239, 64)      320       \n",
      "_________________________________________________________________\n",
      "activation_35 (Activation)   (None, 426, 239, 64)      0         \n",
      "_________________________________________________________________\n",
      "max_pooling2d_18 (MaxPooling (None, 213, 119, 64)      0         \n",
      "_________________________________________________________________\n",
      "conv2d_20 (Conv2D)           (None, 212, 118, 32)      8224      \n",
      "_________________________________________________________________\n",
      "activation_36 (Activation)   (None, 212, 118, 32)      0         \n",
      "_________________________________________________________________\n",
      "max_pooling2d_19 (MaxPooling (None, 106, 59, 32)       0         \n",
      "_________________________________________________________________\n",
      "flatten_8 (Flatten)          (None, 200128)            0         \n",
      "_________________________________________________________________\n",
      "dense_16 (Dense)             (None, 8)                 1601032   \n",
      "_________________________________________________________________\n",
      "activation_37 (Activation)   (None, 8)                 0         \n",
      "_________________________________________________________________\n",
      "dense_17 (Dense)             (None, 7)                 63        \n",
      "_________________________________________________________________\n",
      "activation_38 (Activation)   (None, 7)                 0         \n",
      "=================================================================\n",
      "Total params: 1,609,639\n",
      "Trainable params: 1,609,639\n",
      "Non-trainable params: 0\n",
      "_________________________________________________________________\n"
     ]
    }
   ],
   "source": [
    "model = Sequential()\n",
    "\n",
    "model.add(Conv2D((64), (2,2), input_shape = X.shape[1:]))\n",
    "model.add(Activation(\"relu\"))\n",
    "model.add(MaxPooling2D(pool_size=(2,2)))\n",
    "\n",
    "model.add(Conv2D((32), (2,2)))\n",
    "model.add(Activation(\"relu\"))\n",
    "model.add(MaxPooling2D(pool_size=(2,2)))\n",
    "\n",
    "\n",
    "model.add(Flatten())\n",
    "model.add(Dense(8))\n",
    "model.add(Activation('relu'))\n",
    "\n",
    "\n",
    "model.add(Dense(7))\n",
    "model.add(Activation('sigmoid'))\n",
    "\n",
    "model.compile(\n",
    "    loss=\"binary_crossentropy\",\n",
    "    optimizer='adam',\n",
    "    metrics=['accuracy'],\n",
    ")\n",
    "model.summary()"
   ]
  },
  {
   "cell_type": "code",
   "execution_count": 23,
   "id": "f8432461",
   "metadata": {},
   "outputs": [],
   "source": [
    "NAME = 'CNN-{}'.format(int(time.time()))\n",
    "tensorboard = TensorBoard(log_dir='logs/{}'.format(NAME))"
   ]
  },
  {
   "cell_type": "code",
   "execution_count": 24,
   "id": "3d107449",
   "metadata": {},
   "outputs": [
    {
     "name": "stdout",
     "output_type": "stream",
     "text": [
      "Epoch 1/5\n",
      "492/492 [==============================] - 1674s 3s/step - loss: 0.6219 - accuracy: 0.7283 - val_loss: 0.5551 - val_accuracy: 0.7393\n",
      "Epoch 2/5\n",
      "492/492 [==============================] - 1681s 3s/step - loss: 0.5099 - accuracy: 0.7335 - val_loss: 0.4714 - val_accuracy: 0.7393\n",
      "Epoch 3/5\n",
      "492/492 [==============================] - 1626s 3s/step - loss: 0.4434 - accuracy: 0.7335 - val_loss: 0.4192 - val_accuracy: 0.7393\n",
      "Epoch 4/5\n",
      "492/492 [==============================] - 1584s 3s/step - loss: 0.4007 - accuracy: 0.7335 - val_loss: 0.3849 - val_accuracy: 0.7393\n",
      "Epoch 5/5\n",
      "492/492 [==============================] - 1577s 3s/step - loss: 0.3721 - accuracy: 0.7335 - val_loss: 0.3614 - val_accuracy: 0.7393\n"
     ]
    },
    {
     "data": {
      "text/plain": [
       "<tensorflow.python.keras.callbacks.History at 0x1aebb0b0220>"
      ]
     },
     "execution_count": 24,
     "metadata": {},
     "output_type": "execute_result"
    }
   ],
   "source": [
    "model.fit(X_train, y_train, batch_size=64, epochs=5, validation_data=(X_test, y_test), callbacks=[tensorboard])"
   ]
  },
  {
   "cell_type": "code",
   "execution_count": 25,
   "id": "86c82a17",
   "metadata": {},
   "outputs": [
    {
     "name": "stdout",
     "output_type": "stream",
     "text": [
      "INFO:tensorflow:Assets written to: cnn.model\\assets\n"
     ]
    }
   ],
   "source": [
    "model.save('cnn.model')"
   ]
  },
  {
   "cell_type": "code",
   "execution_count": null,
   "id": "219bda7a",
   "metadata": {},
   "outputs": [],
   "source": []
  }
 ],
 "metadata": {
  "kernelspec": {
   "display_name": "Python 3",
   "language": "python",
   "name": "python3"
  },
  "language_info": {
   "codemirror_mode": {
    "name": "ipython",
    "version": 3
   },
   "file_extension": ".py",
   "mimetype": "text/x-python",
   "name": "python",
   "nbconvert_exporter": "python",
   "pygments_lexer": "ipython3",
   "version": "3.9.3"
  }
 },
 "nbformat": 4,
 "nbformat_minor": 5
}
