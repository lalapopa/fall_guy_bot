{
 "cells": [
  {
   "cell_type": "code",
   "execution_count": 1,
   "id": "ec732666",
   "metadata": {},
   "outputs": [],
   "source": [
    "import os \n",
    "import time \n",
    "import random\n",
    "import numpy as np \n",
    "\n",
    "from keras.models import Sequential\n",
    "from keras.layers.core import Dense, Dropout, Activation, Flatten\n",
    "from keras.layers.convolutional import Conv2D, MaxPooling2D, ZeroPadding2D\n",
    "from keras.layers.normalization import BatchNormalization\n",
    "from keras.regularizers import l2\n",
    "\n",
    "from tensorflow.keras.callbacks import TensorBoard\n",
    "\n",
    "from data_prepare.save_data import save\n",
    "from data_prepare.data_splitter import get_train_and_test_data as gttd\n",
    "from service.service_data import ServiceData as sd"
   ]
  },
  {
   "cell_type": "code",
   "execution_count": 2,
   "id": "96fa53fc",
   "metadata": {},
   "outputs": [
    {
     "name": "stdout",
     "output_type": "stream",
     "text": [
      "Reading: D:/Documents/Python/fallguy_bot/DATA/LEVELS/SnowballSurvival\n",
      "Run # 1\n",
      "Dead categories= 99\n",
      "Fine categories= 1479\n",
      "Raw  categories= 1578\n",
      "raw  img list= 1578\n",
      "Fine img list= 1479\n",
      "Run # 2\n",
      "Dead categories= 115\n",
      "Fine categories= 1290\n",
      "Raw  categories= 1405\n",
      "raw  img list= 1405\n",
      "Fine img list= 1290\n",
      "i found  2769  Data\n",
      "and 2769 numbers of Categories\n",
      "Saving to Numpy in D:\\Documents\\Python\\fallguy_bot\\DATA\\LEVELS\\SnowballSurvival\n",
      "Done! Saving\n"
     ]
    }
   ],
   "source": [
    "level = 'SnowballSurvival'\n",
    "save(level, delete=True, debug=True)\n",
    "os.chdir('D:/Documents/Python/fallguy_bot/DATA/LEVELS/'+ level)"
   ]
  },
  {
   "cell_type": "code",
   "execution_count": 3,
   "id": "1299ff5f",
   "metadata": {},
   "outputs": [],
   "source": [
    "X = np.load(open('X.npy','rb'))\n",
    "y = np.load(open('y.npy','rb'))\n"
   ]
  },
  {
   "cell_type": "code",
   "execution_count": 4,
   "id": "03524226",
   "metadata": {
    "scrolled": false
   },
   "outputs": [
    {
     "name": "stdout",
     "output_type": "stream",
     "text": [
      "press_number in key = {'W_nums': 49, 'A_nums': 102, 'S_nums': 186, 'D_nums': 61, 'SPACE_nums': 0, 'E_nums': 0}\n",
      "max press = 186\n",
      "In Key = A_nums, press len list = 186\n",
      "In Key = S_nums, press len list = 186\n",
      "In Key = D_nums, press len list = 186\n",
      "In Key = SPACE_nums, press len list = 0\n",
      "In Key = E_nums, press len list = 0\n",
      "557\n",
      "creating X_test\n",
      "creating y test\n",
      "creating X_train\n",
      "creating y_train\n",
      "try to return\n"
     ]
    }
   ],
   "source": [
    "X_train, y_train, X_test, y_test = gttd(X,y)"
   ]
  },
  {
   "cell_type": "code",
   "execution_count": 5,
   "id": "f6231384",
   "metadata": {},
   "outputs": [
    {
     "name": "stdout",
     "output_type": "stream",
     "text": [
      "(502, 120, 200, 1)\n",
      "(502, 6)\n",
      "(55, 120, 200, 1)\n",
      "(55, 6)\n"
     ]
    }
   ],
   "source": [
    "print(X_train.shape)\n",
    "print(y_train.shape)\n",
    "print(X_test.shape)\n",
    "print(y_test.shape)\n"
   ]
  },
  {
   "cell_type": "code",
   "execution_count": null,
   "id": "1c8e6dd2",
   "metadata": {},
   "outputs": [],
   "source": [
    "del X, y\n",
    "X_train = X_train/255.0\n",
    "X_test = X_test/255.0\n",
    "\n",
    "y_train = np.asarray(y_train).astype('float32')\n",
    "y_test = np.asarray(y_test).astype('float32')\n",
    "\n",
    "\n"
   ]
  },
  {
   "cell_type": "code",
   "execution_count": 7,
   "id": "137510bf",
   "metadata": {},
   "outputs": [
    {
     "name": "stdout",
     "output_type": "stream",
     "text": [
      "In 502 categories. You pressed key with position A:\n",
      "210 times\n",
      "its have 41.83 percent\n",
      "________________________________________________________________________\n",
      "In 502 categories. You pressed key with position S:\n",
      "269 times\n",
      "its have 53.59 percent\n",
      "________________________________________________________________________\n",
      "In 502 categories. You pressed key with position D:\n",
      "178 times\n",
      "its have 35.46 percent\n",
      "________________________________________________________________________\n",
      "In 502 categories. You pressed key with position SPACE:\n",
      "0 times\n",
      "its have 0.00 percent\n",
      "________________________________________________________________________\n",
      "In 502 categories. You pressed key with position E:\n",
      "0 times\n",
      "its have 0.00 percent\n",
      "________________________________________________________________________\n",
      "In 502 categories. You pressed key with position SHIFT:\n",
      "0 times\n",
      "its have 0.00 percent\n",
      "________________________________________________________________________\n",
      "In 502 categories. You pressed key with position NOTHING:\n",
      "0 times\n",
      "its have 0.00 percent\n",
      "________________________________________________________________________\n",
      "[0 0 0 0 0]\n",
      "[1 0 0 0 0 0]\n"
     ]
    }
   ],
   "source": [
    "what_label = y_train\n",
    "new_dict_key = dict(list(sd.keys_categories.items())[1:])\n",
    "for key_pos, key_name in enumerate(new_dict_key):\n",
    "    press_number = 0 \n",
    "    for label in what_label:\n",
    "        for index, num in enumerate(label):\n",
    "            if num == 1 and index==key_pos:\n",
    "                press_number += 1\n",
    "\n",
    "    print(f'In {len(what_label)} categories. You pressed key with position {key_name}:')\n",
    "    print(f'{press_number} times')\n",
    "    print('its have {:.2f} percent'.format(press_number*100/len(what_label)))\n",
    "    print(f'________________________________________________________________________')\n",
    "\n",
    "print(y_train[10][1:])\n",
    "print(y_train[10])"
   ]
  },
  {
   "cell_type": "code",
   "execution_count": 9,
   "id": "41062070",
   "metadata": {},
   "outputs": [
    {
     "data": {
      "text/plain": [
       "(6,)"
      ]
     },
     "execution_count": 9,
     "metadata": {},
     "output_type": "execute_result"
    }
   ],
   "source": [
    "X_train.shape[1:]\n",
    "y_train.shape[1:]\n"
   ]
  },
  {
   "cell_type": "code",
   "execution_count": null,
   "id": "9a8963b8",
   "metadata": {},
   "outputs": [],
   "source": [
    "#My fucked up model \n",
    "# model = Sequential()\n",
    "\n",
    "# model.add(Conv2D((64), (3,3), input_shape = X_train.shape[1:]))\n",
    "# model.add(Activation(\"relu\"))\n",
    "# model.add(MaxPooling2D(pool_size=(2,2)))\n",
    "\n",
    "# model.add(Conv2D((32), (2,2)))\n",
    "# model.add(Activation(\"relu\"))\n",
    "# model.add(MaxPooling2D(pool_size=(2,2)))\n",
    "\n",
    "\n",
    "# model.add(Flatten())\n",
    "# model.add(Dense(8))\n",
    "# model.add(Activation('relu'))\n",
    "\n",
    "\n",
    "# model.add(Dense(7))\n",
    "# model.add(Activation('sigmoid'))\n",
    "\n",
    "# model.compile(\n",
    "#     loss=\"binary_crossentropy\",\n",
    "#     optimizer='adam',\n",
    "#     metrics=['accuracy'],\n",
    "# )\n",
    "# model.summary()\n",
    "\n",
    "model = Sequential()\n",
    "\n",
    "# 2 sets of CRP (Convolution, RELU, Pooling)\n",
    "model.add(Conv2D(20, (5, 5), padding=\"same\",\n",
    "\tinput_shape=X_train.shape[1:], kernel_regularizer=l2(0.)))\n",
    "model.add(Activation(\"relu\"))\n",
    "model.add(MaxPooling2D(pool_size=(2, 2), strides=(2, 2)))\n",
    "\n",
    "model.add(Conv2D(50, (5, 5), padding=\"same\",\n",
    "\tkernel_regularizer=l2(0.)))\n",
    "model.add(Activation(\"relu\"))\n",
    "model.add(MaxPooling2D(pool_size=(2, 2), strides=(2, 2)))\n",
    "\n",
    "# Fully connected layers (w/ RELU)\n",
    "model.add(Flatten())\n",
    "model.add(Dense(500, kernel_regularizer=l2(0.)))\n",
    "model.add(Activation(\"relu\"))\n",
    "\n",
    "# Softmax (for classification)\n",
    "model.add(Dense(len(y_train[0]), kernel_regularizer=l2(0.)))\n",
    "model.add(Activation(\"softmax\"))\n",
    "\n",
    "model.compile(\n",
    "    loss=\"binary_crossentropy\",\n",
    "    optimizer='adam',\n",
    "    metrics=['accuracy']\n",
    ")\n",
    "\n",
    "model.summary()"
   ]
  },
  {
   "cell_type": "code",
   "execution_count": null,
   "id": "f8432461",
   "metadata": {},
   "outputs": [],
   "source": [
    "NAME = 'CNN-{}'.format(int(time.time()))\n",
    "tensorboard = TensorBoard(log_dir='logs/{}'.format(NAME))"
   ]
  },
  {
   "cell_type": "code",
   "execution_count": null,
   "id": "3d107449",
   "metadata": {},
   "outputs": [],
   "source": [
    "model.fit(X_train, y_train, batch_size=64, epochs=10, validation_data=(X_test, y_test), callbacks=[tensorboard])\n",
    "model.save(f'cnn_{level}.model')"
   ]
  },
  {
   "cell_type": "code",
   "execution_count": null,
   "id": "86c82a17",
   "metadata": {},
   "outputs": [],
   "source": []
  },
  {
   "cell_type": "code",
   "execution_count": null,
   "id": "219bda7a",
   "metadata": {},
   "outputs": [],
   "source": []
  }
 ],
 "metadata": {
  "kernelspec": {
   "display_name": "Python 3 (ipykernel)",
   "language": "python",
   "name": "python3"
  },
  "language_info": {
   "codemirror_mode": {
    "name": "ipython",
    "version": 3
   },
   "file_extension": ".py",
   "mimetype": "text/x-python",
   "name": "python",
   "nbconvert_exporter": "python",
   "pygments_lexer": "ipython3",
   "version": "3.9.3"
  }
 },
 "nbformat": 4,
 "nbformat_minor": 5
}
