{
 "cells": [
  {
   "cell_type": "code",
   "execution_count": 1,
   "id": "ec732666",
   "metadata": {},
   "outputs": [],
   "source": [
    "import os \n",
    "import time \n",
    "import random\n",
    "import numpy as np \n",
    "\n",
    "from keras.models import Sequential\n",
    "from keras.layers.core import Dense, Dropout, Activation, Flatten\n",
    "from keras.layers.convolutional import Conv2D, MaxPooling2D, ZeroPadding2D\n",
    "from keras.layers.normalization import BatchNormalization\n",
    "from keras.regularizers import l2\n",
    "\n",
    "from tensorflow.keras.callbacks import TensorBoard\n",
    "\n",
    "from data_prepare.save_data import save\n",
    "from data_prepare.data_splitter import get_train_and_test_data as gttd\n"
   ]
  },
  {
   "cell_type": "code",
   "execution_count": 2,
   "id": "96fa53fc",
   "metadata": {},
   "outputs": [
    {
     "name": "stdout",
     "output_type": "stream",
     "text": [
      "Already saved\n"
     ]
    }
   ],
   "source": [
    "level = 'BigFans'\n",
    "save(level, delete=False, debug=True)\n",
    "os.chdir('D:/Documents/Python/fallguy_bot/DATA/LEVELS/'+ level)"
   ]
  },
  {
   "cell_type": "code",
   "execution_count": 3,
   "id": "1299ff5f",
   "metadata": {},
   "outputs": [],
   "source": [
    "X = np.load(open('X.npy','rb'))\n",
    "y = np.load(open('y.npy','rb'))\n"
   ]
  },
  {
   "cell_type": "code",
   "execution_count": 4,
   "id": "03524226",
   "metadata": {
    "scrolled": false
   },
   "outputs": [
    {
     "name": "stdout",
     "output_type": "stream",
     "text": [
      "6879\n",
      "creating X_test\n",
      "creating y test\n",
      "creating X_train\n",
      "creating y_train\n",
      "try to return\n"
     ]
    }
   ],
   "source": [
    "X_train, y_train, X_test, y_test = gttd(X,y)"
   ]
  },
  {
   "cell_type": "code",
   "execution_count": 6,
   "id": "f6231384",
   "metadata": {},
   "outputs": [
    {
     "name": "stdout",
     "output_type": "stream",
     "text": [
      "(6192, 240, 427, 1)\n",
      "(6192, 7)\n",
      "(687, 240, 427, 1)\n",
      "(687, 7)\n"
     ]
    }
   ],
   "source": [
    "print(X_train.shape)\n",
    "print(y_train.shape)\n",
    "print(X_test.shape)\n",
    "print(y_test.shape)\n"
   ]
  },
  {
   "cell_type": "code",
   "execution_count": 7,
   "id": "1c8e6dd2",
   "metadata": {},
   "outputs": [],
   "source": [
    "del X, y\n",
    "X_train = X_train/255.0\n",
    "X_test = X_test/255.0\n",
    "\n",
    "y_train = np.asarray(y_train).astype('float32')\n",
    "y_test = np.asarray(y_test).astype('float32')\n"
   ]
  },
  {
   "cell_type": "code",
   "execution_count": 17,
   "id": "137510bf",
   "metadata": {},
   "outputs": [
    {
     "name": "stdout",
     "output_type": "stream",
     "text": [
      "In 6192 categories. You pressed key with position 0,    3756 times\n",
      "its have 60.65891472868217 percent\n",
      "[1. 1. 0. 0. 0. 0. 0.]\n"
     ]
    }
   ],
   "source": [
    "key_pos = 0\n",
    "\n",
    "press_number = 0 \n",
    "what_label = y_train\n",
    "for label in what_label:\n",
    "    for index, num in enumerate(label):\n",
    "        if num == 1 and index==key_pos:\n",
    "            press_number += 1\n",
    "            \n",
    "print(f'In {len(what_label)} categories. You pressed key with position {key_pos},\\\n",
    "    {press_number} times')\n",
    "\n",
    "print(f'its have {press_number*100/len(what_label)} percent')\n",
    "\n",
    "print(y_train[0])"
   ]
  },
  {
   "cell_type": "code",
   "execution_count": 9,
   "id": "41062070",
   "metadata": {},
   "outputs": [
    {
     "data": {
      "text/plain": [
       "(240, 427, 1)"
      ]
     },
     "execution_count": 9,
     "metadata": {},
     "output_type": "execute_result"
    }
   ],
   "source": [
    "X_train.shape[1:]"
   ]
  },
  {
   "cell_type": "code",
   "execution_count": 14,
   "id": "9a8963b8",
   "metadata": {},
   "outputs": [
    {
     "name": "stdout",
     "output_type": "stream",
     "text": [
      "Model: \"sequential_1\"\n",
      "_________________________________________________________________\n",
      "Layer (type)                 Output Shape              Param #   \n",
      "=================================================================\n",
      "conv2d_2 (Conv2D)            (None, 240, 427, 20)      520       \n",
      "_________________________________________________________________\n",
      "activation_4 (Activation)    (None, 240, 427, 20)      0         \n",
      "_________________________________________________________________\n",
      "max_pooling2d_2 (MaxPooling2 (None, 120, 213, 20)      0         \n",
      "_________________________________________________________________\n",
      "conv2d_3 (Conv2D)            (None, 120, 213, 50)      25050     \n",
      "_________________________________________________________________\n",
      "activation_5 (Activation)    (None, 120, 213, 50)      0         \n",
      "_________________________________________________________________\n",
      "max_pooling2d_3 (MaxPooling2 (None, 60, 106, 50)       0         \n",
      "_________________________________________________________________\n",
      "flatten_1 (Flatten)          (None, 318000)            0         \n",
      "_________________________________________________________________\n",
      "dense_2 (Dense)              (None, 500)               159000500 \n",
      "_________________________________________________________________\n",
      "activation_6 (Activation)    (None, 500)               0         \n",
      "_________________________________________________________________\n",
      "dense_3 (Dense)              (None, 7)                 3507      \n",
      "_________________________________________________________________\n",
      "activation_7 (Activation)    (None, 7)                 0         \n",
      "=================================================================\n",
      "Total params: 159,029,577\n",
      "Trainable params: 159,029,577\n",
      "Non-trainable params: 0\n",
      "_________________________________________________________________\n"
     ]
    }
   ],
   "source": [
    "#My fucked up model \n",
    "# model = Sequential()\n",
    "\n",
    "# model.add(Conv2D((64), (3,3), input_shape = X_train.shape[1:]))\n",
    "# model.add(Activation(\"relu\"))\n",
    "# model.add(MaxPooling2D(pool_size=(2,2)))\n",
    "\n",
    "# model.add(Conv2D((32), (2,2)))\n",
    "# model.add(Activation(\"relu\"))\n",
    "# model.add(MaxPooling2D(pool_size=(2,2)))\n",
    "\n",
    "\n",
    "# model.add(Flatten())\n",
    "# model.add(Dense(8))\n",
    "# model.add(Activation('relu'))\n",
    "\n",
    "\n",
    "# model.add(Dense(7))\n",
    "# model.add(Activation('sigmoid'))\n",
    "\n",
    "# model.compile(\n",
    "#     loss=\"binary_crossentropy\",\n",
    "#     optimizer='adam',\n",
    "#     metrics=['accuracy'],\n",
    "# )\n",
    "# model.summary()\n",
    "\n",
    "model = Sequential()\n",
    "\n",
    "# 2 sets of CRP (Convolution, RELU, Pooling)\n",
    "model.add(Conv2D(20, (5, 5), padding=\"same\",\n",
    "\tinput_shape=X_train.shape[1:], kernel_regularizer=l2(0.)))\n",
    "model.add(Activation(\"relu\"))\n",
    "model.add(MaxPooling2D(pool_size=(2, 2), strides=(2, 2)))\n",
    "\n",
    "model.add(Conv2D(50, (5, 5), padding=\"same\",\n",
    "\tkernel_regularizer=l2(0.)))\n",
    "model.add(Activation(\"relu\"))\n",
    "model.add(MaxPooling2D(pool_size=(2, 2), strides=(2, 2)))\n",
    "\n",
    "# Fully connected layers (w/ RELU)\n",
    "model.add(Flatten())\n",
    "model.add(Dense(500, kernel_regularizer=l2(0.)))\n",
    "model.add(Activation(\"relu\"))\n",
    "\n",
    "# Softmax (for classification)\n",
    "model.add(Dense(len(y_train[0]), kernel_regularizer=l2(0.)))\n",
    "model.add(Activation(\"softmax\"))\n",
    "\n",
    "model.compile(\n",
    "    loss=\"binary_crossentropy\",\n",
    "    optimizer='adam',\n",
    "    metrics=['accuracy']\n",
    ")\n",
    "\n",
    "model.summary()"
   ]
  },
  {
   "cell_type": "code",
   "execution_count": 15,
   "id": "f8432461",
   "metadata": {},
   "outputs": [],
   "source": [
    "NAME = 'CNN-{}'.format(int(time.time()))\n",
    "tensorboard = TensorBoard(log_dir='logs/{}'.format(NAME))"
   ]
  },
  {
   "cell_type": "code",
   "execution_count": 16,
   "id": "3d107449",
   "metadata": {},
   "outputs": [
    {
     "name": "stdout",
     "output_type": "stream",
     "text": [
      "Epoch 1/10\n",
      "97/97 [==============================] - 404s 4s/step - loss: 1.1342 - accuracy: 0.5148 - val_loss: 0.2750 - val_accuracy: 0.6041\n",
      "Epoch 2/10\n",
      "97/97 [==============================] - 394s 4s/step - loss: 0.1723 - accuracy: 0.6491 - val_loss: 0.2091 - val_accuracy: 0.6405\n",
      "Epoch 3/10\n",
      "97/97 [==============================] - 385s 4s/step - loss: 0.0534 - accuracy: 0.6785 - val_loss: 0.2280 - val_accuracy: 0.6114\n",
      "Epoch 4/10\n",
      "97/97 [==============================] - 390s 4s/step - loss: 0.0239 - accuracy: 0.6933 - val_loss: 0.2682 - val_accuracy: 0.6565\n",
      "Epoch 5/10\n",
      "97/97 [==============================] - 389s 4s/step - loss: 0.0149 - accuracy: 0.7154 - val_loss: 0.2909 - val_accuracy: 0.6172\n",
      "Epoch 6/10\n",
      "97/97 [==============================] - 404s 4s/step - loss: 0.0081 - accuracy: 0.7040 - val_loss: 0.3207 - val_accuracy: 0.6463\n",
      "Epoch 7/10\n",
      "97/97 [==============================] - 394s 4s/step - loss: 0.0055 - accuracy: 0.7209 - val_loss: 0.3179 - val_accuracy: 0.5328\n",
      "Epoch 8/10\n",
      "97/97 [==============================] - 396s 4s/step - loss: 0.0044 - accuracy: 0.7106 - val_loss: 0.3099 - val_accuracy: 0.5764\n",
      "Epoch 9/10\n",
      "97/97 [==============================] - 379s 4s/step - loss: 0.0033 - accuracy: 0.7048 - val_loss: 0.3232 - val_accuracy: 0.6041\n",
      "Epoch 10/10\n",
      "97/97 [==============================] - 377s 4s/step - loss: 0.0021 - accuracy: 0.7269 - val_loss: 0.3490 - val_accuracy: 0.5852\n",
      "INFO:tensorflow:Assets written to: cnn_BigFans.model\\assets\n"
     ]
    }
   ],
   "source": [
    "model.fit(X_train, y_train, batch_size=64, epochs=10, validation_data=(X_test, y_test), callbacks=[tensorboard])\n",
    "model.save(f'cnn_{level}.model')"
   ]
  },
  {
   "cell_type": "code",
   "execution_count": null,
   "id": "86c82a17",
   "metadata": {},
   "outputs": [],
   "source": []
  },
  {
   "cell_type": "code",
   "execution_count": null,
   "id": "219bda7a",
   "metadata": {},
   "outputs": [],
   "source": []
  }
 ],
 "metadata": {
  "kernelspec": {
   "display_name": "Python 3 (ipykernel)",
   "language": "python",
   "name": "python3"
  },
  "language_info": {
   "codemirror_mode": {
    "name": "ipython",
    "version": 3
   },
   "file_extension": ".py",
   "mimetype": "text/x-python",
   "name": "python",
   "nbconvert_exporter": "python",
   "pygments_lexer": "ipython3",
   "version": "3.9.3"
  }
 },
 "nbformat": 4,
 "nbformat_minor": 5
}
