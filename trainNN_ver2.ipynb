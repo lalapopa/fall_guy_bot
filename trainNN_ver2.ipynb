{
  "nbformat": 4,
  "nbformat_minor": 5,
  "metadata": {
    "kernelspec": {
      "display_name": "Python 3 (ipykernel)",
      "language": "python",
      "name": "python3"
    },
    "language_info": {
      "codemirror_mode": {
        "name": "ipython",
        "version": 3
      },
      "file_extension": ".py",
      "mimetype": "text/x-python",
      "name": "python",
      "nbconvert_exporter": "python",
      "pygments_lexer": "ipython3",
      "version": "3.9.3"
    },
    "colab": {
      "name": "trainNN_ver2.ipynb\"",
      "provenance": [],
      "collapsed_sections": [],
      "include_colab_link": true
    },
    "accelerator": "GPU"
  },
  "cells": [
    {
      "cell_type": "markdown",
      "metadata": {
        "id": "view-in-github",
        "colab_type": "text"
      },
      "source": [
        "<a href=\"https://colab.research.google.com/github/lalapopa/fall_guy_bot/blob/main/trainNN_ver2.ipynb\" target=\"_parent\"><img src=\"https://colab.research.google.com/assets/colab-badge.svg\" alt=\"Open In Colab\"/></a>"
      ]
    },
    {
      "cell_type": "code",
      "metadata": {
        "id": "xG0RV4CB71PV",
        "colab": {
          "base_uri": "https://localhost:8080/"
        },
        "outputId": "54573eea-f977-4166-ad7d-abcdc47bedf0"
      },
      "source": [
        "from google.colab import drive\n",
        "drive.mount('/content/drive')"
      ],
      "id": "xG0RV4CB71PV",
      "execution_count": null,
      "outputs": [
        {
          "output_type": "stream",
          "name": "stdout",
          "text": [
            "Drive already mounted at /content/drive; to attempt to forcibly remount, call drive.mount(\"/content/drive\", force_remount=True).\n"
          ]
        }
      ]
    },
    {
      "cell_type": "code",
      "metadata": {
        "id": "ec732666"
      },
      "source": [
        "import os \n",
        "import time \n",
        "import random\n",
        "import numpy as np \n",
        "import random\n",
        "\n",
        "from keras.models import Sequential\n",
        "from keras.layers.core import Dense, Dropout, Activation, Flatten\n",
        "from keras.layers.convolutional import Conv2D, MaxPooling2D, ZeroPadding2D\n",
        "from keras.layers import BatchNormalization\n",
        "from keras.regularizers import l2\n",
        "\n",
        "from tensorflow.keras.callbacks import TensorBoard\n"
      ],
      "id": "ec732666",
      "execution_count": null,
      "outputs": []
    },
    {
      "cell_type": "code",
      "metadata": {
        "id": "96fa53fc"
      },
      "source": [
        "path_gd = 'drive/MyDrive/LEVELS/'\n",
        "keys_categories = {\n",
        "'W':        [1,0,0,0,0,0,0],\n",
        "'A':        [0,1,0,0,0,0,0],\n",
        "'S':        [0,0,1,0,0,0,0],\n",
        "'D':        [0,0,0,1,0,0,0],\n",
        "'SPACE':    [0,0,0,0,1,0,0],\n",
        "'E':        [0,0,0,0,0,1,0],\n",
        "'SHIFT':    [0,0,0,0,0,0,1],\n",
        "'NOTHING':  [0,0,0,0,0,0,0],\n",
        "}"
      ],
      "id": "96fa53fc",
      "execution_count": null,
      "outputs": []
    },
    {
      "cell_type": "code",
      "metadata": {
        "id": "m4X7SkyuFpxh"
      },
      "source": [
        "level = 'KnightFever'"
      ],
      "id": "m4X7SkyuFpxh",
      "execution_count": null,
      "outputs": []
    },
    {
      "cell_type": "code",
      "metadata": {
        "id": "1299ff5f",
        "colab": {
          "base_uri": "https://localhost:8080/"
        },
        "outputId": "2df5247a-d13f-4422-bdf2-8e3f71faf6cf"
      },
      "source": [
        "X = np.load(open(f'{path_gd}{level}/X.npy','rb'))\n",
        "y = np.load(open(f'{path_gd}{level}/y.npy','rb'))\n",
        "\n",
        "print(X.shape)\n",
        "print(y.shape)\n",
        "\n",
        "X = X/255.0\n",
        "X = X.astype(np.int16)\n",
        "\n"
      ],
      "id": "1299ff5f",
      "execution_count": null,
      "outputs": [
        {
          "output_type": "stream",
          "name": "stdout",
          "text": [
            "(25384, 120, 200, 1)\n",
            "(25384, 7)\n"
          ]
        }
      ]
    },
    {
      "cell_type": "code",
      "metadata": {
        "id": "7aee0596"
      },
      "source": [
        "def only_w(array):\n",
        "    new_arr = array[1:]\n",
        "    if any(new_arr):\n",
        "        return False\n",
        "    if array[0] == 1:\n",
        "        return True"
      ],
      "id": "7aee0596",
      "execution_count": null,
      "outputs": []
    },
    {
      "cell_type": "code",
      "metadata": {
        "id": "16312a63",
        "colab": {
          "base_uri": "https://localhost:8080/"
        },
        "outputId": "5b626ae2-b584-4d7a-a69f-4762e602bd55"
      },
      "source": [
        "nothing_counter = 0\n",
        "w_counter = 0\n",
        "for lable in y:\n",
        "    if not any(lable):\n",
        "        nothing_counter += 1\n",
        "    if only_w(lable):\n",
        "        w_counter += 1\n",
        "        \n",
        "print(nothing_counter)\n",
        "print(w_counter)\n",
        "        "
      ],
      "id": "16312a63",
      "execution_count": null,
      "outputs": [
        {
          "output_type": "stream",
          "name": "stdout",
          "text": [
            "2049\n",
            "13246\n"
          ]
        }
      ]
    },
    {
      "cell_type": "code",
      "metadata": {
        "id": "cf4rYSLWBQqA"
      },
      "source": [
        "def get_train_and_test_data(X_array, y_array, data_percent=0.1):\n",
        "\n",
        "    y_normalized, taken_position = normalize_data(y_array)\n",
        "    X_normalized = [X_array[pos] for pos in taken_position]\n",
        "\n",
        "    max_index = get_img_amount(X_normalized) - 1  #we need last index available \n",
        "\n",
        "    print(f'img_number = {max_index}')\n",
        "\n",
        "    list_size_for_test = int(max_index*data_percent)\n",
        "\n",
        "    index_for_test = get_unique_random_list(list_size_for_test, max_index)\n",
        "    index_for_train = get_list_without_given_element(max_index, index_for_test)\n",
        "    random.shuffle(index_for_train)\n",
        "\n",
        "    print('creating X_test')\n",
        "    X_test = np.stack([X_normalized[num] for num in index_for_test])\n",
        "\n",
        "    print('creating y test')\n",
        "    y_test = np.stack([y_normalized[num] for num in index_for_test])\n",
        "\n",
        "    print('creating X_train')\n",
        "    X_train = np.stack([X_normalized[num] for num in index_for_train])\n",
        "\n",
        "    print('creating y_train')\n",
        "    y_train = np.stack([y_normalized[num] for num in index_for_train])\n",
        "\n",
        "    print('try to return')\n",
        "    return X_train, y_train, X_test, y_test\n",
        "\n",
        "def normalize_data(y_array):\n",
        "    key_pos = [0, 1, 2, 3, 4, 5]  # 0 - W; 1 - A; 2 - S; 3 - D; 4 - SPACE;\n",
        "    key_names = [\n",
        "    'W_nums', \n",
        "    'A_nums',\n",
        "    'S_nums',\n",
        "    'D_nums',\n",
        "    'SPACE_nums',\n",
        "    'E_nums',\n",
        "    'nothing'\n",
        "    ] \n",
        "    press_dict = {\n",
        "    'W_nums': 0,\n",
        "    'A_nums': 0,\n",
        "    'S_nums': 0,\n",
        "    'D_nums': 0,\n",
        "    'SPACE_nums': 0,\n",
        "    'E_nums': 0,\n",
        "    'nothing': 0,\n",
        "    }\n",
        "\n",
        "    pos_in_y = {\n",
        "    'W_nums': [],\n",
        "    'A_nums': [],\n",
        "    'S_nums': [],\n",
        "    'D_nums': [],\n",
        "    'SPACE_nums': [],\n",
        "    'E_nums': [],\n",
        "    'nothing': [],\n",
        "    }\n",
        "    for lable_index, label in enumerate(y_array):\n",
        "        if any(label):\n",
        "            if only_w(label):\n",
        "                pos_in_y['nothing'].append(lable_index)\n",
        "                press_dict['nothing'] += 1 \n",
        "                continue\n",
        "            one_pos = find_one_in_array(label)\n",
        "\n",
        "            if len(one_pos) == 1:\n",
        "                for key in key_pos:\n",
        "                    if key in one_pos:\n",
        "                        pos_in_y[key_names[key]].append(lable_index)\n",
        "                        press_dict[key_names[key]] += 1\n",
        "\n",
        "            if one_pos[0] == 0 and len(one_pos) == 2:\n",
        "                for key in key_pos[1:]:\n",
        "                    if key in one_pos:\n",
        "                        pos_in_y[key_names[key]].append(lable_index)\n",
        "                        press_dict[key_names[key]] += 1\n",
        "\n",
        "        else:\n",
        "            pos_in_y['nothing'].append(lable_index)\n",
        "            press_dict['nothing'] += 1 \n",
        "\n",
        "    # press_amount = sum(press_dict.values())\n",
        "    # avg_press = int(press_amount/len(press_dict))\n",
        "  \n",
        "    max_value = max(press_dict.values())\n",
        "    print(f'press_number in key = {press_dict}')\n",
        "    print(f'max press = {max_value}')\n",
        "    new_pos_y = {}\n",
        "\n",
        "    for key_name, value in pos_in_y.items():\n",
        "        new_pos_y[key_name] = []\n",
        "        if len(value) != 0:\n",
        "            if len(value) < max_value:\n",
        "                while max_value > len(new_pos_y[key_name]):\n",
        "                    for i in value:\n",
        "                        new_pos_y[key_name].append(i)\n",
        "                        if len(new_pos_y[key_name]) >= max_value:\n",
        "                            break\n",
        "\n",
        "            if len(value) >= max_value:\n",
        "                for_shuffle = [i for i in value]\n",
        "                random.shuffle(for_shuffle)\n",
        "                new_pos_y[key_name] = for_shuffle[:max_value]\n",
        "\n",
        "    y_new = []\n",
        "    positions = []\n",
        "\n",
        "    #we take all key except 'W'\n",
        "    new_pos_y = dict(list(new_pos_y.items())[1:]) #Removing W from dict\n",
        "    for key, value in new_pos_y.items():\n",
        "        print(f'In Key = {key}, press len list = {len(value)}')\n",
        "        for pos in value:\n",
        "            y_new.append(y_array[pos][1:]) #Removing W in list now index 0 is A key\n",
        "            positions.append(pos)\n",
        "\n",
        "    return y_new, positions\n",
        "\n",
        "def only_w(array):\n",
        "    new_arr = array[1:]\n",
        "    if any(new_arr):\n",
        "        return False\n",
        "    if array[0] == 1:\n",
        "        return True\n",
        "\n",
        "def find_one_in_array(array):\n",
        "    return [i for i, val in enumerate(array) if val]\n",
        "\n",
        "def get_img_amount(array):\n",
        "    shape = np.shape(array)\n",
        "    shape_in_list = list(shape)\n",
        "    return shape_in_list[0]\n",
        "\n",
        "\n",
        "def get_unique_random_list(list_len, max_number):\n",
        "    return random.sample(range(0, max_number), list_len)\n",
        "\n",
        "\n",
        "def get_list_without_given_element(array_size, element_positions):\n",
        "    array = [num for num in range(0,array_size)]\n",
        "    pos_to_delete = tuple(element_positions)\n",
        "    for i in pos_to_delete:\n",
        "        array.remove(i)\n",
        "    return array"
      ],
      "id": "cf4rYSLWBQqA",
      "execution_count": null,
      "outputs": []
    },
    {
      "cell_type": "code",
      "metadata": {
        "scrolled": false,
        "id": "03524226",
        "colab": {
          "base_uri": "https://localhost:8080/"
        },
        "outputId": "2888d372-1721-4a03-95ac-c6921bc1f70f"
      },
      "source": [
        "X_train, y_train, X_test, y_test = get_train_and_test_data(X,y)"
      ],
      "id": "03524226",
      "execution_count": null,
      "outputs": [
        {
          "output_type": "stream",
          "name": "stdout",
          "text": [
            "press_number in key = {'W_nums': 0, 'A_nums': 3546, 'S_nums': 226, 'D_nums': 4194, 'SPACE_nums': 582, 'E_nums': 291, 'nothing': 15295}\n",
            "max press = 15295\n",
            "In Key = A_nums, press len list = 15295\n",
            "In Key = S_nums, press len list = 15295\n",
            "In Key = D_nums, press len list = 15295\n",
            "In Key = SPACE_nums, press len list = 15295\n",
            "In Key = E_nums, press len list = 15295\n",
            "In Key = nothing, press len list = 15295\n",
            "img_number = 91769\n",
            "creating X_test\n",
            "creating y test\n",
            "creating X_train\n",
            "creating y_train\n",
            "try to return\n"
          ]
        }
      ]
    },
    {
      "cell_type": "code",
      "metadata": {
        "id": "f6231384",
        "colab": {
          "base_uri": "https://localhost:8080/"
        },
        "outputId": "9dd94069-611c-40a3-af55-35ad316c2e75"
      },
      "source": [
        "print(X_train.shape)\n",
        "print(y_train.shape)\n",
        "print(X_test.shape)\n",
        "print(y_test.shape)\n"
      ],
      "id": "f6231384",
      "execution_count": null,
      "outputs": [
        {
          "output_type": "stream",
          "name": "stdout",
          "text": [
            "(82593, 120, 200, 1)\n",
            "(82593, 6)\n",
            "(9176, 120, 200, 1)\n",
            "(9176, 6)\n"
          ]
        }
      ]
    },
    {
      "cell_type": "code",
      "metadata": {
        "id": "1c8e6dd2"
      },
      "source": [
        "del X, y\n"
      ],
      "id": "1c8e6dd2",
      "execution_count": null,
      "outputs": []
    },
    {
      "cell_type": "code",
      "metadata": {
        "id": "JvE_qXgBEi30"
      },
      "source": [
        "# X_train = X_train/255.0\n",
        "# X_test = X_test/255.0\n",
        "\n",
        "# y_train = np.asarray(y_train).astype('float32')\n",
        "# y_test = np.asarray(y_test).astype('float32')\n"
      ],
      "id": "JvE_qXgBEi30",
      "execution_count": null,
      "outputs": []
    },
    {
      "cell_type": "code",
      "metadata": {
        "id": "137510bf",
        "colab": {
          "base_uri": "https://localhost:8080/"
        },
        "outputId": "b9dcc68c-7d83-4ea3-ed8e-35c9975a082b"
      },
      "source": [
        "what_label = y_train\n",
        "new_dict_key = dict(list(keys_categories.items())[1:-1])\n",
        "only_nothing = 0\n",
        "for key_pos, key_name in enumerate(new_dict_key):\n",
        "    press_number = 0 \n",
        "    for label in what_label:\n",
        "        for index, num in enumerate(label):\n",
        "            if num == 1 and index==key_pos:\n",
        "                press_number += 1\n",
        "    print(f'In {len(what_label)} categories. You pressed key with position {key_name}:')\n",
        "    print(f'{press_number} times')\n",
        "    print('its have {:.2f} percent'.format(press_number*100/len(what_label)))\n",
        "    print(f'________________________________________________________________________')\n",
        "for lable in what_label:\n",
        "    if not any(lable):\n",
        "        only_nothing += 1  \n",
        "    \n",
        "    \n",
        "print(f'In {len(what_label)} categories. You pressed do nothing')\n",
        "print(f'{only_nothing} times')\n",
        "print('its have {:.2f} percent'.format(only_nothing*100/len(what_label)))\n",
        "print(f'________________________________________________________________________')\n"
      ],
      "id": "137510bf",
      "execution_count": null,
      "outputs": [
        {
          "output_type": "stream",
          "name": "stdout",
          "text": [
            "In 82593 categories. You pressed key with position A:\n",
            "13723 times\n",
            "its have 16.62 percent\n",
            "________________________________________________________________________\n",
            "In 82593 categories. You pressed key with position S:\n",
            "13767 times\n",
            "its have 16.67 percent\n",
            "________________________________________________________________________\n",
            "In 82593 categories. You pressed key with position D:\n",
            "13780 times\n",
            "its have 16.68 percent\n",
            "________________________________________________________________________\n",
            "In 82593 categories. You pressed key with position SPACE:\n",
            "13779 times\n",
            "its have 16.68 percent\n",
            "________________________________________________________________________\n",
            "In 82593 categories. You pressed key with position E:\n",
            "13756 times\n",
            "its have 16.66 percent\n",
            "________________________________________________________________________\n",
            "In 82593 categories. You pressed key with position SHIFT:\n",
            "0 times\n",
            "its have 0.00 percent\n",
            "________________________________________________________________________\n",
            "In 82593 categories. You pressed do nothing\n",
            "13788 times\n",
            "its have 16.69 percent\n",
            "________________________________________________________________________\n"
          ]
        }
      ]
    },
    {
      "cell_type": "code",
      "metadata": {
        "id": "41062070",
        "colab": {
          "base_uri": "https://localhost:8080/"
        },
        "outputId": "be88bfa5-db26-433d-e437-0ddac9e1fafe"
      },
      "source": [
        "X_train.shape[1:]\n",
        "y_train.shape[1:]\n"
      ],
      "id": "41062070",
      "execution_count": null,
      "outputs": [
        {
          "output_type": "execute_result",
          "data": {
            "text/plain": [
              "(6,)"
            ]
          },
          "metadata": {},
          "execution_count": 35
        }
      ]
    },
    {
      "cell_type": "code",
      "metadata": {
        "id": "9a8963b8",
        "colab": {
          "base_uri": "https://localhost:8080/"
        },
        "outputId": "412185eb-24d2-4127-88b5-26c0eb14fc48"
      },
      "source": [
        "model = Sequential()\n",
        "# 1st Convolutional Layer\n",
        "model.add(Conv2D(filters=96, input_shape=X_train.shape[1:], kernel_size=(11,11),\\\n",
        "strides=(4,4), padding='valid'))\n",
        "model.add(Activation('relu'))\n",
        "# Pooling \n",
        "model.add(MaxPooling2D(pool_size=(2,2), strides=(2,2), padding='valid'))\n",
        "# Batch Normalisation before passing it to the next layer\n",
        "model.add(BatchNormalization())\n",
        "# 2nd Convolutional Layer\n",
        "model.add(Conv2D(filters=256, kernel_size=(5,5), strides=(1,1), padding='same'))\n",
        "model.add(Activation('relu'))\n",
        "# Pooling\n",
        "model.add(MaxPooling2D(pool_size=(3,3), strides=(2,2), padding='valid'))\n",
        "# Batch Normalisation\n",
        "model.add(BatchNormalization())\n",
        "# 3rd Convolutional Layer\n",
        "model.add(Conv2D(filters=384, kernel_size=(3,3), strides=(1,1), padding='same'))\n",
        "model.add(Activation('relu'))\n",
        "# Batch Normalisation\n",
        "model.add(BatchNormalization())\n",
        "# 4th Convolutional Layer\n",
        "model.add(Conv2D(filters=384, kernel_size=(3,3), strides=(1,1), padding='same'))\n",
        "model.add(Activation('relu'))\n",
        "# Batch Normalisation\n",
        "model.add(BatchNormalization())\n",
        "# 5th Convolutional Layer\n",
        "model.add(Conv2D(filters=256, kernel_size=(3,3), strides=(1,1), padding='same'))\n",
        "model.add(Activation('relu'))\n",
        "# Pooling\n",
        "model.add(MaxPooling2D(pool_size=(3,3), strides=(2,2), padding='valid'))\n",
        "# Batch Normalisation\n",
        "model.add(BatchNormalization())\n",
        "# Passing it to a dense layer\n",
        "model.add(Flatten())\n",
        "# 1st Dense Layer\n",
        "model.add(Dense(4096, input_shape=X_train.shape[1:]))\n",
        "model.add(Activation('relu'))\n",
        "# Add Dropout to prevent overfitting\n",
        "model.add(Dropout(0.4))\n",
        "# Batch Normalisation\n",
        "model.add(BatchNormalization())\n",
        "# 2nd Dense Layer\n",
        "model.add(Dense(4096))\n",
        "model.add(Activation('relu'))\n",
        "# Add Dropout\n",
        "model.add(Dropout(0.4))\n",
        "# Batch Normalisation\n",
        "model.add(BatchNormalization())\n",
        "#  output Layer \n",
        "model.add(Dense(len(y_train[0])))\n",
        "model.add(Activation('sigmoid'))\n",
        "\n",
        "model.compile(\n",
        "loss=\"binary_crossentropy\",\n",
        "optimizer='adam',\n",
        "metrics=['accuracy']\n",
        ")\n",
        "model.summary()"
      ],
      "id": "9a8963b8",
      "execution_count": null,
      "outputs": [
        {
          "output_type": "stream",
          "name": "stdout",
          "text": [
            "Model: \"sequential_1\"\n",
            "_________________________________________________________________\n",
            "Layer (type)                 Output Shape              Param #   \n",
            "=================================================================\n",
            "conv2d_5 (Conv2D)            (None, 28, 48, 96)        11712     \n",
            "_________________________________________________________________\n",
            "activation_8 (Activation)    (None, 28, 48, 96)        0         \n",
            "_________________________________________________________________\n",
            "max_pooling2d_3 (MaxPooling2 (None, 14, 24, 96)        0         \n",
            "_________________________________________________________________\n",
            "batch_normalization_7 (Batch (None, 14, 24, 96)        384       \n",
            "_________________________________________________________________\n",
            "conv2d_6 (Conv2D)            (None, 14, 24, 256)       614656    \n",
            "_________________________________________________________________\n",
            "activation_9 (Activation)    (None, 14, 24, 256)       0         \n",
            "_________________________________________________________________\n",
            "max_pooling2d_4 (MaxPooling2 (None, 6, 11, 256)        0         \n",
            "_________________________________________________________________\n",
            "batch_normalization_8 (Batch (None, 6, 11, 256)        1024      \n",
            "_________________________________________________________________\n",
            "conv2d_7 (Conv2D)            (None, 6, 11, 384)        885120    \n",
            "_________________________________________________________________\n",
            "activation_10 (Activation)   (None, 6, 11, 384)        0         \n",
            "_________________________________________________________________\n",
            "batch_normalization_9 (Batch (None, 6, 11, 384)        1536      \n",
            "_________________________________________________________________\n",
            "conv2d_8 (Conv2D)            (None, 6, 11, 384)        1327488   \n",
            "_________________________________________________________________\n",
            "activation_11 (Activation)   (None, 6, 11, 384)        0         \n",
            "_________________________________________________________________\n",
            "batch_normalization_10 (Batc (None, 6, 11, 384)        1536      \n",
            "_________________________________________________________________\n",
            "conv2d_9 (Conv2D)            (None, 6, 11, 256)        884992    \n",
            "_________________________________________________________________\n",
            "activation_12 (Activation)   (None, 6, 11, 256)        0         \n",
            "_________________________________________________________________\n",
            "max_pooling2d_5 (MaxPooling2 (None, 2, 5, 256)         0         \n",
            "_________________________________________________________________\n",
            "batch_normalization_11 (Batc (None, 2, 5, 256)         1024      \n",
            "_________________________________________________________________\n",
            "flatten_1 (Flatten)          (None, 2560)              0         \n",
            "_________________________________________________________________\n",
            "dense_3 (Dense)              (None, 4096)              10489856  \n",
            "_________________________________________________________________\n",
            "activation_13 (Activation)   (None, 4096)              0         \n",
            "_________________________________________________________________\n",
            "dropout_2 (Dropout)          (None, 4096)              0         \n",
            "_________________________________________________________________\n",
            "batch_normalization_12 (Batc (None, 4096)              16384     \n",
            "_________________________________________________________________\n",
            "dense_4 (Dense)              (None, 4096)              16781312  \n",
            "_________________________________________________________________\n",
            "activation_14 (Activation)   (None, 4096)              0         \n",
            "_________________________________________________________________\n",
            "dropout_3 (Dropout)          (None, 4096)              0         \n",
            "_________________________________________________________________\n",
            "batch_normalization_13 (Batc (None, 4096)              16384     \n",
            "_________________________________________________________________\n",
            "dense_5 (Dense)              (None, 6)                 24582     \n",
            "_________________________________________________________________\n",
            "activation_15 (Activation)   (None, 6)                 0         \n",
            "=================================================================\n",
            "Total params: 31,057,990\n",
            "Trainable params: 31,038,854\n",
            "Non-trainable params: 19,136\n",
            "_________________________________________________________________\n"
          ]
        }
      ]
    },
    {
      "cell_type": "code",
      "metadata": {
        "id": "f8432461"
      },
      "source": [
        "NAME = 'CNN-{}'.format(int(time.time()))\n",
        "tensorboard = TensorBoard(log_dir='logs/{}'.format(NAME))"
      ],
      "id": "f8432461",
      "execution_count": null,
      "outputs": []
    },
    {
      "cell_type": "code",
      "metadata": {
        "id": "3d107449"
      },
      "source": [
        "model.fit(X_train, y_train, batch_size=64, epochs=10, validation_data=(X_test, y_test), callbacks=[tensorboard])\n",
        "model.save(f'{path_gd}{level}/cnn_{level}.h5')"
      ],
      "id": "3d107449",
      "execution_count": null,
      "outputs": []
    },
    {
      "cell_type": "code",
      "metadata": {
        "id": "86c82a17"
      },
      "source": [
        ""
      ],
      "id": "86c82a17",
      "execution_count": null,
      "outputs": []
    },
    {
      "cell_type": "code",
      "metadata": {
        "id": "219bda7a"
      },
      "source": [
        ""
      ],
      "id": "219bda7a",
      "execution_count": null,
      "outputs": []
    }
  ]
}