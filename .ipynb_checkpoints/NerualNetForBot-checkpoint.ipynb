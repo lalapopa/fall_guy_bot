{
 "cells": [
  {
   "cell_type": "code",
   "execution_count": 3,
   "id": "ec732666",
   "metadata": {},
   "outputs": [],
   "source": [
    "import os \n",
    "import time \n",
    "import random\n",
    "import numpy as np \n",
    "import tensorflow as tf\n",
    "from tensorflow.keras.models import Sequential\n",
    "from tensorflow.keras.layers import Dense, Dropout, Activation, Flatten, Conv2D, MaxPooling2D\n",
    "from tensorflow.keras.callbacks import TensorBoard\n",
    "\n",
    "from data_prepare.save_data import save\n",
    "from data_prepare.data_splitter import get_train_and_test_data as gttd\n"
   ]
  },
  {
   "cell_type": "code",
   "execution_count": 6,
   "id": "96fa53fc",
   "metadata": {
    "scrolled": false
   },
   "outputs": [
    {
     "name": "stdout",
     "output_type": "stream",
     "text": [
      "Already saved\n"
     ]
    }
   ],
   "source": [
    "level = 'HitParade'\n",
    "save(level, delete=False, debug=True)\n",
    "os.chdir('D:/Documents/Python/fallguy_bot/DATA/LEVELS/'+ level)\n",
    "X = np.load(open('X.npy','rb'))\n",
    "y = np.load(open('y.npy','rb'))\n"
   ]
  },
  {
   "cell_type": "code",
   "execution_count": null,
   "id": "1299ff5f",
   "metadata": {},
   "outputs": [],
   "source": []
  },
  {
   "cell_type": "code",
   "execution_count": 11,
   "id": "03524226",
   "metadata": {
    "scrolled": false
   },
   "outputs": [
    {
     "name": "stdout",
     "output_type": "stream",
     "text": [
      "9222\n",
      "creating X_test\n",
      "creating y test\n",
      "creating X_train\n",
      "creating y_train\n",
      "try to return\n"
     ]
    }
   ],
   "source": [
    "X_train, y_train, X_test, y_test = gttd(X,y)"
   ]
  },
  {
   "cell_type": "code",
   "execution_count": 12,
   "id": "f6231384",
   "metadata": {},
   "outputs": [
    {
     "name": "stdout",
     "output_type": "stream",
     "text": [
      "(8300, 240, 427)\n",
      "(8300, 7)\n",
      "(922, 240, 427)\n",
      "(922, 7)\n"
     ]
    }
   ],
   "source": [
    "print(X_train.shape)\n",
    "print(y_train.shape)\n",
    "print(X_test.shape)\n",
    "print(y_test.shape)"
   ]
  },
  {
   "cell_type": "code",
   "execution_count": 10,
   "id": "1c8e6dd2",
   "metadata": {},
   "outputs": [],
   "source": [
    "X_train = X_train.astype(\"float32\")\n",
    "y_train = y_train.astype(\"float32\")\n",
    "\n",
    "X_test = X_test.astype(\"float32\")\n",
    "y_test = y_test.astype(\"float32\")\n"
   ]
  },
  {
   "cell_type": "code",
   "execution_count": 34,
   "id": "137510bf",
   "metadata": {},
   "outputs": [
    {
     "name": "stdout",
     "output_type": "stream",
     "text": [
      "In 8300 categories. You pressed key with position 0,    172 times\n"
     ]
    }
   ],
   "source": [
    "key_pos = 4\n",
    "\n",
    "press_number = 0 \n",
    "what_label = y_train\n",
    "for label in what_label:\n",
    "    for index, num in enumerate(label):\n",
    "        if num == 1 and index==key_pos:\n",
    "            press_number += 1\n",
    "            \n",
    "print(f'In {len(what_label)} categories. You pressed key with position {key},\\\n",
    "    {press_number} times')\n",
    "            \n",
    "            \n",
    "            \n",
    "    \n",
    "    \n"
   ]
  },
  {
   "cell_type": "code",
   "execution_count": 14,
   "id": "9a8963b8",
   "metadata": {
    "collapsed": true
   },
   "outputs": [
    {
     "name": "stdout",
     "output_type": "stream",
     "text": [
      "Model: \"sequential\"\n",
      "_________________________________________________________________\n",
      "Layer (type)                 Output Shape              Param #   \n",
      "=================================================================\n",
      "conv2d (Conv2D)              (None, 425, 238, 32)      320       \n",
      "_________________________________________________________________\n",
      "activation (Activation)      (None, 425, 238, 32)      0         \n",
      "_________________________________________________________________\n",
      "max_pooling2d (MaxPooling2D) (None, 212, 119, 32)      0         \n",
      "_________________________________________________________________\n",
      "conv2d_1 (Conv2D)            (None, 210, 117, 16)      4624      \n",
      "_________________________________________________________________\n",
      "activation_1 (Activation)    (None, 210, 117, 16)      0         \n",
      "_________________________________________________________________\n",
      "max_pooling2d_1 (MaxPooling2 (None, 105, 58, 16)       0         \n",
      "_________________________________________________________________\n",
      "flatten (Flatten)            (None, 97440)             0         \n",
      "_________________________________________________________________\n",
      "dense (Dense)                (None, 16)                1559056   \n",
      "_________________________________________________________________\n",
      "activation_2 (Activation)    (None, 16)                0         \n",
      "_________________________________________________________________\n",
      "dense_1 (Dense)              (None, 7)                 119       \n",
      "_________________________________________________________________\n",
      "activation_3 (Activation)    (None, 7)                 0         \n",
      "=================================================================\n",
      "Total params: 1,564,119\n",
      "Trainable params: 1,564,119\n",
      "Non-trainable params: 0\n",
      "_________________________________________________________________\n"
     ]
    }
   ],
   "source": [
    "model = Sequential()\n",
    "\n",
    "model.add(Conv2D((32), (3,3), input_shape = X.shape[1:]))\n",
    "model.add(Activation(\"relu\"))\n",
    "model.add(MaxPooling2D(pool_size=(2,2)))\n",
    "\n",
    "model.add(Conv2D((16), (3,3)))\n",
    "model.add(Activation(\"relu\"))\n",
    "model.add(MaxPooling2D(pool_size=(2,2)))\n",
    "\n",
    "model.add(Flatten())\n",
    "model.add(Dense(16))\n",
    "model.add(Activation('relu'))\n",
    "\n",
    "\n",
    "model.add(Dense(7))\n",
    "model.add(Activation('sigmoid'))\n",
    "\n",
    "model.compile(\n",
    "    loss=\"binary_crossentropy\",\n",
    "    optimizer='adam',\n",
    "    metrics=['accuracy'],\n",
    ")\n",
    "model.summary()"
   ]
  },
  {
   "cell_type": "code",
   "execution_count": 15,
   "id": "f8432461",
   "metadata": {},
   "outputs": [],
   "source": [
    "NAME = 'CNN-{}'.format(int(time.time()))\n",
    "tensorboard = TensorBoard(log_dir='logs/{}'.format(NAME))"
   ]
  },
  {
   "cell_type": "code",
   "execution_count": 17,
   "id": "3d107449",
   "metadata": {},
   "outputs": [
    {
     "name": "stdout",
     "output_type": "stream",
     "text": [
      "Epoch 1/5\n",
      "476/476 [==============================] - 930s 2s/step - loss: 0.2769 - accuracy: 0.8094 - val_loss: 0.2528 - val_accuracy: 0.8251\n",
      "Epoch 2/5\n",
      "476/476 [==============================] - 872s 2s/step - loss: 0.2064 - accuracy: 0.7993 - val_loss: 0.2441 - val_accuracy: 0.8098\n",
      "Epoch 3/5\n",
      "476/476 [==============================] - 870s 2s/step - loss: 0.1232 - accuracy: 0.8324 - val_loss: 0.2680 - val_accuracy: 0.7607\n",
      "Epoch 4/5\n",
      "476/476 [==============================] - 871s 2s/step - loss: 0.0576 - accuracy: 0.8585 - val_loss: 0.3721 - val_accuracy: 0.7713\n",
      "Epoch 5/5\n",
      "476/476 [==============================] - 901s 2s/step - loss: 0.0313 - accuracy: 0.8553 - val_loss: 0.4689 - val_accuracy: 0.7615\n"
     ]
    },
    {
     "data": {
      "text/plain": [
       "<tensorflow.python.keras.callbacks.History at 0x239b007d3d0>"
      ]
     },
     "execution_count": 17,
     "metadata": {},
     "output_type": "execute_result"
    }
   ],
   "source": [
    "model.fit(X_train, y_train, batch_size=64, epochs=5, validation_data=(X_test, y_test), callbacks=[tensorboard])"
   ]
  },
  {
   "cell_type": "code",
   "execution_count": 18,
   "id": "86c82a17",
   "metadata": {},
   "outputs": [
    {
     "name": "stdout",
     "output_type": "stream",
     "text": [
      "INFO:tensorflow:Assets written to: cnn.model\\assets\n"
     ]
    }
   ],
   "source": [
    "model.save('cnn.model')"
   ]
  },
  {
   "cell_type": "code",
   "execution_count": null,
   "id": "219bda7a",
   "metadata": {},
   "outputs": [],
   "source": []
  }
 ],
 "metadata": {
  "kernelspec": {
   "display_name": "Python 3 (ipykernel)",
   "language": "python",
   "name": "python3"
  },
  "language_info": {
   "codemirror_mode": {
    "name": "ipython",
    "version": 3
   },
   "file_extension": ".py",
   "mimetype": "text/x-python",
   "name": "python",
   "nbconvert_exporter": "python",
   "pygments_lexer": "ipython3",
   "version": "3.9.3"
  }
 },
 "nbformat": 4,
 "nbformat_minor": 5
}
