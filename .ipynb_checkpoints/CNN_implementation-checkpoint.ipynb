{
 "cells": [
  {
   "cell_type": "code",
   "execution_count": 1,
   "id": "50f3b1ad",
   "metadata": {},
   "outputs": [],
   "source": [
    "import os \n",
    "import cv2 as cv\n",
    "import tensorflow as tf\n",
    "import numpy as np\n",
    "import time\n",
    "\n",
    "import keras.backend as K\n",
    "from tensorflow.keras.models import load_model\n",
    "from IPython.display import clear_output\n",
    "\n",
    "from data_collect.window_capture import WindowCapture\n",
    "from keyboard_inputer import run_input\n",
    "\n",
    "\n",
    "\n",
    "def Vision(wincap): \n",
    "    screenshot = wincap.get_screenshot()\n",
    "    screenshot = cv.cvtColor(screenshot, cv.COLOR_BGR2GRAY)\n",
    "    resize_screenshoot = cv.resize(screenshot, (427,240))\n",
    "    resize_screenshoot = cv.adaptiveThreshold(resize_screenshoot,255,cv.ADAPTIVE_THRESH_MEAN_C,\\\n",
    "            cv.THRESH_BINARY,5,-5)\n",
    "    return resize_screenshoot\n",
    "\n",
    "def prepare(img):\n",
    "    img = img.reshape(-1, 427, 240, 1)\n",
    "    img = img/255.0\n",
    "#     img = tf.convert_to_tensor(img, dtype=tf.int64)\n",
    "#     img = img.astype(\"float32\")\n",
    "    return img\n",
    "\n",
    "def prediction_by_nn(img): \n",
    "    prediction = model.predict([img])\n",
    "    K.clear_session()\n",
    "    return prediction"
   ]
  },
  {
   "cell_type": "code",
   "execution_count": 35,
   "id": "931bdee0",
   "metadata": {},
   "outputs": [],
   "source": [
    "level = ['DizzyHeights','DoorDash', 'TundraRun', 'GateCrush', \n",
    "         'HitParade', 'KnightFever','RollOn','SeeSaw']\n",
    "level = 'RollOn'\n",
    "os.chdir('D:/Documents/Python/fallguy_bot/DATA/LEVELS/'+ level)\n",
    "model = load_model(f'cnn_{level}.model')"
   ]
  }
 ],
 "metadata": {
  "kernelspec": {
   "display_name": "Python 3 (ipykernel)",
   "language": "python",
   "name": "python3"
  },
  "language_info": {
   "codemirror_mode": {
    "name": "ipython",
    "version": 3
   },
   "file_extension": ".py",
   "mimetype": "text/x-python",
   "name": "python",
   "nbconvert_exporter": "python",
   "pygments_lexer": "ipython3",
   "version": "3.9.3"
  }
 },
 "nbformat": 4,
 "nbformat_minor": 5
}
