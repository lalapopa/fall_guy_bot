{
 "cells": [
  {
   "cell_type": "code",
   "execution_count": 1,
   "id": "50f3b1ad",
   "metadata": {},
   "outputs": [],
   "source": [
    "import os \n",
    "import cv2 as cv\n",
    "import tensorflow as tf\n",
    "import numpy as np\n",
    "import time\n",
    "\n",
    "import keras.backend as K\n",
    "from tensorflow.keras.models import load_model\n",
    "from IPython.display import clear_output\n",
    "\n",
    "from data_collect.window_capture import WindowCapture\n",
    "from keyboard_inputer import run_input\n",
    "\n",
    "\n",
    "\n",
    "def Vision(wincap): \n",
    "    screenshot = wincap.get_screenshot()\n",
    "    screenshot = cv.cvtColor(screenshot, cv.COLOR_BGR2GRAY)\n",
    "    resize_screenshoot = cv.resize(screenshot, (427,240))\n",
    "    resize_screenshoot = cv.adaptiveThreshold(resize_screenshoot,255,cv.ADAPTIVE_THRESH_MEAN_C,\\\n",
    "            cv.THRESH_BINARY,5,-5)\n",
    "    return resize_screenshoot\n",
    "\n",
    "def prepare(img):\n",
    "    img = img.reshape(-1, 427, 240, 1)\n",
    "    img = img/255.0\n",
    "#     img = tf.convert_to_tensor(img, dtype=tf.int64)\n",
    "#     img = img.astype(\"float32\")\n",
    "    return img\n"
   ]
  },
  {
   "cell_type": "code",
   "execution_count": 3,
   "id": "931bdee0",
   "metadata": {},
   "outputs": [],
   "source": [
    "level = ['HitParade', 'TheWhirlygig', 'TundraRun', 'BigFans']\n",
    "\n",
    "level = level[-1]\n",
    "os.chdir('D:/Documents/Python/fallguy_bot/DATA/LEVELS/'+ level)\n",
    "model = load_model(f'cnn_{level}.model')"
   ]
  },
  {
   "cell_type": "code",
   "execution_count": 4,
   "id": "21d280cb",
   "metadata": {},
   "outputs": [],
   "source": [
    "def prediction_by_nn(img): \n",
    "    prediction = model.predict([img])\n",
    "    K.clear_session()\n",
    "    return prediction"
   ]
  },
  {
   "cell_type": "code",
   "execution_count": null,
   "id": "14102b71",
   "metadata": {},
   "outputs": [
    {
     "name": "stdout",
     "output_type": "stream",
     "text": [
      "[2.9876350e+01 1.5603547e+01 4.5541599e+01 1.6447908e-01 8.7732038e+00\n",
      " 3.7147235e-02 3.6825284e-03]\n",
      "I pressing ['NOTHING']\n",
      "[]\n"
     ]
    }
   ],
   "source": [
    "print(os.getcwd())\n",
    "past_key = []\n",
    "wincap = WindowCapture()\n",
    "\n",
    "print('run in 2second')\n",
    "time.sleep(1)\n",
    "while True:\n",
    "    screen = Vision(wincap)\n",
    "    img = prepare(screen)\n",
    "    categories = prediction_by_nn(img)\n",
    "    print(categories[0]*100)\n",
    "    past_key = run_input(categories[0], past_key)\n",
    "    print(past_key)\n",
    "    clear_output(wait=True)\n",
    "    \n",
    "    if cv.waitKey(1) == ord('r'):\n",
    "        cv.destroyAllWindows()\n",
    "        break"
   ]
  },
  {
   "cell_type": "code",
   "execution_count": null,
   "id": "d22cc19a",
   "metadata": {},
   "outputs": [],
   "source": []
  },
  {
   "cell_type": "code",
   "execution_count": null,
   "id": "ac155e84",
   "metadata": {
    "scrolled": true
   },
   "outputs": [],
   "source": [
    "print(os.getcwd())\n",
    "past_key = []\n",
    "\n",
    "\n",
    "# print('run in 2second')\n",
    "# time.sleep(1)\n",
    "# while True:\n",
    "#     wincap = WindowCapture()\n",
    "#     screen = vision(wincap)\n",
    "#     img = prepare_img(screen)\n",
    "#     categories = prediction_by_nn(img)\n",
    "#     print(categories)\n",
    "#     clear_output(wait=True)\n",
    "\n",
    "# while True:\n",
    "#     screen = vision(wincap)\n",
    "#     img = prepare_img(screen)\n",
    "    \n",
    "#     cv2.imshow('CV', screen)\n",
    "#     categories = prediction_by_nn(img)\n",
    "#     print(categories)\n",
    "#     past_key = run_input(categories[0], past_key)\n",
    "#     print(past_key)\n",
    "    \n",
    "#     clear_output(wait=True)\n",
    "   \n",
    "#     if cv2.waitKey(1) == ord('r'):\n",
    "#         cv2.destroyAllWindows()\n",
    "#         break"
   ]
  },
  {
   "cell_type": "code",
   "execution_count": null,
   "id": "27d17d3f",
   "metadata": {},
   "outputs": [],
   "source": []
  },
  {
   "cell_type": "code",
   "execution_count": null,
   "id": "1e8f49b2",
   "metadata": {},
   "outputs": [],
   "source": []
  },
  {
   "cell_type": "code",
   "execution_count": null,
   "id": "af76c6e1",
   "metadata": {},
   "outputs": [],
   "source": []
  }
 ],
 "metadata": {
  "kernelspec": {
   "display_name": "Python 3 (ipykernel)",
   "language": "python",
   "name": "python3"
  },
  "language_info": {
   "codemirror_mode": {
    "name": "ipython",
    "version": 3
   },
   "file_extension": ".py",
   "mimetype": "text/x-python",
   "name": "python",
   "nbconvert_exporter": "python",
   "pygments_lexer": "ipython3",
   "version": "3.9.3"
  }
 },
 "nbformat": 4,
 "nbformat_minor": 5
}
