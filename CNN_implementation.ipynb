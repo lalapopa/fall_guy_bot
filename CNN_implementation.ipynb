{
 "cells": [
  {
   "cell_type": "code",
   "execution_count": 1,
   "id": "50f3b1ad",
   "metadata": {},
   "outputs": [],
   "source": [
    "import os \n",
    "import cv2 as cv\n",
    "import tensorflow as tf\n",
    "import numpy as np\n",
    "import time\n",
    "\n",
    "import keras.backend as K\n",
    "from tensorflow.keras.models import load_model\n",
    "from IPython.display import clear_output\n",
    "\n",
    "from data_collect.window_capture import WindowCapture\n",
    "from keyboard_inputer import run_input\n",
    "from service.service_data import ServiceData as sd\n",
    "\n",
    "\n",
    "def Vision(wincap): \n",
    "    screenshot = wincap.get_screenshot()\n",
    "    screenshot = cv.cvtColor(screenshot, cv.COLOR_BGR2GRAY)\n",
    "    resize_screenshoot = cv.resize(screenshot, (sd.img_size_x, sd.img_size_y))\n",
    "    resize_screenshoot = cv.adaptiveThreshold(resize_screenshoot,255,cv.ADAPTIVE_THRESH_MEAN_C,\\\n",
    "            cv.THRESH_BINARY,5,-5)\n",
    "    return resize_screenshoot\n",
    "\n",
    "def prepare(img):\n",
    "    img = img.reshape(-1, sd.img_size_x, sd.img_size_y, 1)\n",
    "    img = img/255.0\n",
    "#     img = tf.convert_to_tensor(img, dtype=tf.int64)\n",
    "#     img = img.astype(\"float32\")\n",
    "    return img\n",
    "\n",
    "def prediction_by_nn(img): \n",
    "    prediction = model.predict([img])\n",
    "    K.clear_session()\n",
    "    return prediction"
   ]
  },
  {
   "cell_type": "code",
   "execution_count": 2,
   "id": "931bdee0",
   "metadata": {},
   "outputs": [],
   "source": [
    "level = 'KnightFever'\n",
    "os.chdir('D:/Documents/Python/fallguy_bot/DATA/LEVELS/'+ level)\n",
    "model = load_model(f'cnn_{level}.model')"
   ]
  },
  {
   "cell_type": "code",
   "execution_count": null,
   "id": "72ce72b5",
   "metadata": {},
   "outputs": [
    {
     "name": "stdout",
     "output_type": "stream",
     "text": [
      "Prediction = [2.3212188e-04 7.7152285e-03 9.9991493e+01 3.4203399e-06 9.5949772e-06\n",
      " 8.5652012e-08]\n",
      "I pressing ['D']\n",
      "['D']\n"
     ]
    }
   ],
   "source": [
    "print(os.getcwd())\n",
    "past_key = []\n",
    "wincap = WindowCapture()\n",
    "print('run in 2second')\n",
    "time.sleep(1)\n",
    "while True:\n",
    "    screen = Vision(wincap)\n",
    "    img = prepare(screen)\n",
    "    categories = prediction_by_nn(img)\n",
    "    print(f'Prediction = {categories[0]*100}')\n",
    "    past_key = run_input(categories[0], past_key)\n",
    "    print(past_key)\n",
    "    clear_output(wait=True)\n",
    "    if cv.waitKey(1) == ord('r'):\n",
    "        cv.destroyAllWindows()\n",
    "        break"
   ]
  },
  {
   "cell_type": "code",
   "execution_count": null,
   "id": "a14a90cd",
   "metadata": {},
   "outputs": [],
   "source": []
  }
 ],
 "metadata": {
  "kernelspec": {
   "display_name": "Python 3 (ipykernel)",
   "language": "python",
   "name": "python3"
  },
  "language_info": {
   "codemirror_mode": {
    "name": "ipython",
    "version": 3
   },
   "file_extension": ".py",
   "mimetype": "text/x-python",
   "name": "python",
   "nbconvert_exporter": "python",
   "pygments_lexer": "ipython3",
   "version": "3.9.3"
  }
 },
 "nbformat": 4,
 "nbformat_minor": 5
}
